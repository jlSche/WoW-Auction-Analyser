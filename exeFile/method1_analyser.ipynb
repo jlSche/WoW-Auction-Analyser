{
 "metadata": {
  "name": "",
  "signature": "sha256:98b5aabecbbca2df3c2a54c841f4fa1789886ed160b567a41fab90638ef66453"
 },
 "nbformat": 3,
 "nbformat_minor": 0,
 "worksheets": [
  {
   "cells": [
    {
     "cell_type": "code",
     "collapsed": false,
     "input": [
      "from pandas import *\n",
      "import numpy as np\n",
      "import os\n",
      "import DataHandling\n",
      "import DataPreprocess"
     ],
     "language": "python",
     "metadata": {},
     "outputs": [],
     "prompt_number": 1
    },
    {
     "cell_type": "code",
     "collapsed": false,
     "input": [
      "collectedDate_list = ['0314-0316', '0317-0319', '0320-0327', '0328-0407', '0408-0423', '0424-0514', '0515-0605', '0606-062702', '062714-0717', '0718-0807', '0808-082602', '082614-0918', '0919-1013']\n",
      "fractionlist = ['_alliance', '_horde']\n",
      "qualitylist = ['Poor', 'Common', 'Uncommon', 'Rare', 'Epic', 'Legendary', 'Heirloom']\n",
      "qualityIDlist = [0, 1, 2, 3, 4, 5, 7]\n",
      "classlist = ['Consumable', 'Container', 'Weapon', 'Gem', 'Armor', 'Projectile', 'Trade Goods', 'Book', 'Money', 'Quest', 'Key', 'Junk', 'Glyph', 'Caged Pet']\n",
      "classIDlist = [0, 1, 2, 3, 4, 6, 7, 9, 10, 12, 13, 15, 16, 17]\n",
      "fractionlist = ['_alliance', '_horde']\n",
      "\n",
      "fields_name = 'Realm Name,Export Time,PMktPrice Date,Reserved,Item ID,Item Name,AH MarketPrice Coppers,AH Quantity,AH MarketPrice,AH MinimumPrice,14-day Median Market Price,Median Market Price StdDev,14-day Todays PMktPrice,PMktPrice StdDev,Daily Price Change,Avg Daily Posted,Avg Estimated Daily Sold,Estimated Demand\\n' \n",
      "fields_name = fields_name.replace(' ', '_')\n",
      "\n",
      "source_dir = '../sourceDir/'\n",
      "working_dir = '../workingDir/'\n",
      "corr_dir = '../corr/'\n",
      "# comment three lines below if the data are in local computer\n",
      "'''\n",
      "usb_mode = '/Volumes/TOSHIBA/'\n",
      "source_dir = usb_mode + source_dir[3:]\n",
      "working_dir = usb_mode + working_dir[3:] + '0313-1012/'\n",
      "'''\n",
      "pop_dir = source_dir + 'population/'\n",
      "auction_dir = source_dir + 'auctionData/'\n",
      "csv_dir = source_dir + 'csvFile/'\n",
      "itemlist = read_csv(source_dir+'itemlist.csv')"
     ],
     "language": "python",
     "metadata": {},
     "outputs": [],
     "prompt_number": 4
    },
    {
     "cell_type": "code",
     "collapsed": false,
     "input": [
      "pve_top = DataHandling.getRealmsList('0411',ascending_order=False,PvP='PvE')\n",
      "pve_low = DataHandling.getRealmsList('0411',ascending_order=True,PvP='PvE')\n",
      "\n",
      "pvp_top = DataHandling.getRealmsList('0411',ascending_order=False,PvP='PvP')\n",
      "pvp_low = DataHandling.getRealmsList('0411',ascending_order=True,PvP='PvP')"
     ],
     "language": "python",
     "metadata": {},
     "outputs": [
      {
       "output_type": "stream",
       "stream": "stdout",
       "text": [
        "Getting Realms...\n",
        "Realms: ['stormrage', 'area-52', 'proudmoore', 'zuljin', 'thrall']\n",
        "Getting Realms...\n",
        "Realms: ['gallywix', 'grizzly-hills', 'borean-tundra', 'staghelm', 'drenden']\n",
        "Getting Realms...\n",
        "Realms: ['tichondrius', 'darkspear', 'illidan', 'frostmourne', 'kiljaeden']\n",
        "Getting Realms...\n",
        "Realms: ['tol-barad', 'shattered-hand', 'alterac-mountains', 'burning-legion', 'drakkari']\n"
       ]
      }
     ],
     "prompt_number": 6
    },
    {
     "cell_type": "code",
     "collapsed": false,
     "input": [
      "auction_list = []\n",
      "for auction_name in pvp_low:\n",
      "    #prcorr_dir + auction_name + auction_name + '.csv'\n",
      "    auction = read_csv(corr_dir + auction_name + '_alliance.csv')\n",
      "    auction = auction[(auction['Corr'] > 0.8 ) | (auction['Corr'] < -0.8)]\n",
      "    id_list = auction['Item ID']\n",
      "    auction_list.append(id_list)\n",
      "    "
     ],
     "language": "python",
     "metadata": {},
     "outputs": [],
     "prompt_number": 48
    },
    {
     "cell_type": "code",
     "collapsed": true,
     "input": [
      "duplicate4 = auction_list[0]\n",
      "for idx in range(1, len(auction_list)-1, 1):\n",
      "    duplicate4 = list(set(duplicate).intersection(auction_list[idx]))"
     ],
     "language": "python",
     "metadata": {},
     "outputs": [],
     "prompt_number": 50
    },
    {
     "cell_type": "code",
     "collapsed": false,
     "input": [
      "duplicates = [duplcate1, "
     ],
     "language": "python",
     "metadata": {},
     "outputs": [],
     "prompt_number": 45
    },
    {
     "cell_type": "code",
     "collapsed": false,
     "input": [
      "tt = duplicate1\n",
      "for item in [duplicate2, duplicate3, duplicate4]:\n",
      "     tt = list(set(tt).intersection(item))"
     ],
     "language": "python",
     "metadata": {},
     "outputs": [],
     "prompt_number": 52
    },
    {
     "cell_type": "code",
     "collapsed": false,
     "input": [
      "tt"
     ],
     "language": "python",
     "metadata": {},
     "outputs": [
      {
       "metadata": {},
       "output_type": "pyout",
       "prompt_number": 53,
       "text": [
        "[35616.0, 6712.0, 82931.0]"
       ]
      }
     ],
     "prompt_number": 53
    },
    {
     "cell_type": "code",
     "collapsed": false,
     "input": [],
     "language": "python",
     "metadata": {},
     "outputs": []
    }
   ],
   "metadata": {}
  }
 ]
}
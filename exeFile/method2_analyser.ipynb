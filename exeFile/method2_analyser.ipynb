{
 "metadata": {
  "name": "",
  "signature": "sha256:30725f1653ef85ea2600f318736029b0f9d211420e95d2579b6d4164cf5fe794"
 },
 "nbformat": 3,
 "nbformat_minor": 0,
 "worksheets": [
  {
   "cells": [
    {
     "cell_type": "code",
     "collapsed": false,
     "input": [
      "from pandas import *\n",
      "import numpy as np\n",
      "import os\n",
      "import DataHandling\n",
      "import DataPreprocess\n",
      "import method2\n",
      "import method1_analyser\n",
      "\n",
      "collectedDate_list = ['0314-0316', '0317-0319', '0320-0327', '0328-0407', '0408-0423', '0424-0514', '0515-0605', '0606-062702', '062714-0717', '0718-0807', '0808-082602', '082614-0918', '0919-1013']\n",
      "fractionlist = ['_alliance', '_horde']\n",
      "qualitylist = ['Poor', 'Common', 'Uncommon', 'Rare', 'Epic', 'Legendary', 'Heirloom']\n",
      "qualityIDlist = [0, 1, 2, 3, 4, 5, 7]\n",
      "classlist = ['Consumable', 'Container', 'Weapon', 'Gem', 'Armor', 'Projectile', 'Trade Goods', 'Book', 'Money', 'Quest', 'Key', 'Junk', 'Glyph', 'Caged Pet']\n",
      "classIDlist = [0, 1, 2, 3, 4, 6, 7, 9, 10, 12, 13, 15, 16, 17]\n",
      "fractionlist = ['_alliance', '_horde']\n",
      "\n",
      "fields_name = 'Realm Name,Export Time,PMktPrice Date,Reserved,Item ID,Item Name,AH MarketPrice Coppers,AH Quantity,AH MarketPrice,AH MinimumPrice,14-day Median Market Price,Median Market Price StdDev,14-day Todays PMktPrice,PMktPrice StdDev,Daily Price Change,Avg Daily Posted,Avg Estimated Daily Sold,Estimated Demand\\n' \n",
      "fields_name = fields_name.replace(' ', '_')\n",
      "\n",
      "source_dir = '../sourceDir/'\n",
      "working_dir = '../workingDir/'\n",
      "# comment three lines below if the data are in local computer\n",
      "'''\n",
      "usb_mode = '/Volumes/TOSHIBA/'\n",
      "source_dir = usb_mode + source_dir[3:]\n",
      "working_dir = usb_mode + working_dir[3:] + '0313-1012/'\n",
      "'''\n",
      "pop_dir = source_dir + 'population/'\n",
      "auction_dir = source_dir + 'auctionData/'\n",
      "csv_dir = source_dir + 'csvFile/'\n",
      "itemlist = read_csv(source_dir+'itemlist.csv')"
     ],
     "language": "python",
     "metadata": {},
     "outputs": [],
     "prompt_number": 144
    },
    {
     "cell_type": "code",
     "collapsed": false,
     "input": [
      "realm_list = DataHandling.getRealmsList('0411',ascending_order=False,PvP='PvP')"
     ],
     "language": "python",
     "metadata": {},
     "outputs": [
      {
       "output_type": "stream",
       "stream": "stdout",
       "text": [
        "Getting Realms...\n",
        "Realms: ['tichondrius', 'darkspear', 'illidan', 'frostmourne', 'kiljaeden']\n"
       ]
      }
     ],
     "prompt_number": 68
    },
    {
     "cell_type": "code",
     "collapsed": false,
     "input": [
      "reload(method2)\n",
      "method2.generateMethod2Material(realm_list)"
     ],
     "language": "python",
     "metadata": {},
     "outputs": [
      {
       "output_type": "stream",
       "stream": "stdout",
       "text": [
        "finished tichondrius ...\n",
        "finished"
       ]
      },
      {
       "output_type": "stream",
       "stream": "stdout",
       "text": [
        " darkspear ...\n",
        "finished"
       ]
      },
      {
       "output_type": "stream",
       "stream": "stdout",
       "text": [
        " illidan ...\n",
        "finished"
       ]
      },
      {
       "output_type": "stream",
       "stream": "stdout",
       "text": [
        " frostmourne ...\n",
        "finished"
       ]
      },
      {
       "output_type": "stream",
       "stream": "stdout",
       "text": [
        " kiljaeden ...\n"
       ]
      }
     ],
     "prompt_number": 145
    },
    {
     "cell_type": "code",
     "collapsed": true,
     "input": [
      "auction_list, item_list = method2.generateAuctionAndItemList(realm_list)"
     ],
     "language": "python",
     "metadata": {},
     "outputs": [],
     "prompt_number": 146
    },
    {
     "cell_type": "code",
     "collapsed": false,
     "input": [
      "method2.generateMethod2Corr(realm_list,auction_list,item_list)"
     ],
     "language": "python",
     "metadata": {},
     "outputs": [],
     "prompt_number": 147
    },
    {
     "cell_type": "code",
     "collapsed": false,
     "input": [
      "reload(method2)\n",
      "result = method2.getHighCorrItem('method2_result')"
     ],
     "language": "python",
     "metadata": {},
     "outputs": [],
     "prompt_number": 158
    },
    {
     "cell_type": "code",
     "collapsed": false,
     "input": [
      "len(result)"
     ],
     "language": "python",
     "metadata": {},
     "outputs": [
      {
       "metadata": {},
       "output_type": "pyout",
       "prompt_number": 159,
       "text": [
        "2362"
       ]
      }
     ],
     "prompt_number": 159
    },
    {
     "cell_type": "code",
     "collapsed": false,
     "input": [],
     "language": "python",
     "metadata": {},
     "outputs": []
    }
   ],
   "metadata": {}
  }
 ]
}